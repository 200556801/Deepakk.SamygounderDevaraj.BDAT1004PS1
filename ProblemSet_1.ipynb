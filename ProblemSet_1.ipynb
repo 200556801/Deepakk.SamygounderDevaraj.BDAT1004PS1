{
 "cells": [
  {
   "cell_type": "markdown",
   "id": "a13d836e",
   "metadata": {},
   "source": [
    "Question 1"
   ]
  },
  {
   "cell_type": "markdown",
   "id": "10f402d0",
   "metadata": {},
   "source": [
    "5 \n",
    ">>Numbers Integer\n",
    "\n",
    "5.0\n",
    ">>Numbers Float\n",
    "\n",
    "5>1\n",
    ">>Numbers Boolean expression\n",
    "\n",
    "'5'\n",
    ">>String\n",
    "\n",
    "5*2\n",
    ">>  Numbers integer\n",
    "\n",
    "'5'+'2' \n",
    ">>String\n",
    "\n",
    "5/2\n",
    ">>Numbers Integer Expression\n",
    "\n",
    "5%2\n",
    ">>Numbers Integer\n",
    "\n",
    "{5,2,1}\n",
    ">>Dictionary\n",
    "\n",
    "5 == 3\n",
    ">>Numbers Boolean expression\n",
    "\n",
    "pi\n",
    ">>Numbers Float"
   ]
  },
  {
   "cell_type": "markdown",
   "id": "2f266289",
   "metadata": {},
   "source": [
    "Question 2\n",
    "Write (and evaluate) python expressions that answer these questions:\n",
    "a. How many letters are there in 'Supercalifragilisticexpialidocious'?\n",
    "b. Does 'Supercalifragilisticexpialidocious' contain 'ice' as a substring? \n",
    "c. Which of the following words is the longest:\n",
    "Supercalifragilisticexpialidocious, Honorificabilitudinitatibus, or\n",
    "Bababadalgharaghtakamminarronnkonn?\n",
    "d. Which composer comes first in the dictionary: 'Berlioz', 'Borodin', 'Brian',\n",
    "'Bartok', 'Bellini', 'Buxtehude', 'Bernstein'. Which one comes last?"
   ]
  },
  {
   "cell_type": "code",
   "execution_count": 12,
   "id": "2e68cc94",
   "metadata": {},
   "outputs": [
    {
     "name": "stdout",
     "output_type": "stream",
     "text": [
      "34\n",
      "true\n",
      "str1 is the longest\n"
     ]
    }
   ],
   "source": [
    "str1='Supercalifragilisticexpialidocious' #creating string\n",
    "print(len(str1))  #printing the length of str using len() \n",
    "if 'ice' in str1:    #checking if the substring ice is present in str\n",
    "    print('true')   \n",
    "str2='Honorificabilitudinitatibus'\n",
    "str3='Bababadalgharaghtakamminarronnkonn'\n",
    "if len(str1) >len(str2) and len(str1) > len(str2):\n",
    "    print ('str1 is the longest')\n",
    "elif len(str2) >len(str3):\n",
    "    print ('str2 is the longest')\n",
    "else:\n",
    "    print ('str3 is the longest')\n",
    "#dict={'Berlioz', 'Borodin', 'Brian','Bartok', 'Bellini', 'Buxtehude', 'Bernstein'}\n",
    "#print (dict.first())\n",
    "#print (dict.last())\n",
    " \n"
   ]
  },
  {
   "cell_type": "markdown",
   "id": "d0fec4ed",
   "metadata": {},
   "source": [
    "Question 3\n",
    "Implement function triangleArea(a,b,c) that takes as input the lengths of the 3\n",
    "sides of a triangle and returns the area of the triangle. By Heron's formula, the area\n",
    "of a triangle with side lengths a, b, and c is\n",
    "s(s - a)(s -b)(s -c)\n",
    ", where\n",
    "s = (a+b+c)/2.\n",
    ">>> triangleArea(2,2,2)\n",
    "1.7320508075688772"
   ]
  },
  {
   "cell_type": "code",
   "execution_count": 5,
   "id": "55124c56",
   "metadata": {},
   "outputs": [
    {
     "name": "stdout",
     "output_type": "stream",
     "text": [
      "2\n",
      "2\n",
      "2\n",
      "1.7320508075688772\n"
     ]
    }
   ],
   "source": [
    "import math\n",
    "a= int(input())\n",
    "b= int(input())\n",
    "c= int(input())\n",
    "s=(a+b+c)/2\n",
    "s1=int(s)\n",
    "area=(math.sqrt(s1*(s1 - a)*(s1 -b)*(s1 -c)))\n",
    "print(area)\n"
   ]
  },
  {
   "cell_type": "markdown",
   "id": "919784c5",
   "metadata": {},
   "source": [
    "## "
   ]
  },
  {
   "cell_type": "markdown",
   "id": "13bb824e",
   "metadata": {},
   "source": [
    "Question 4\n",
    "Write a program in python to separate odd and even integers in separate arrays. Go\n",
    "to the editor\n",
    "Test Data :\n",
    "Input the number of elements to be stored in the array :5\n",
    "Input 5 elements in the array :\n",
    "element - 0 : 25\n",
    "element - 1 : 47\n",
    "element - 2 : 42\n",
    "element - 3 : 56\n",
    "element - 4 : 32"
   ]
  },
  {
   "cell_type": "code",
   "execution_count": 14,
   "id": "0b143a5b",
   "metadata": {},
   "outputs": [
    {
     "name": "stdout",
     "output_type": "stream",
     "text": [
      "The Even elements are:\n",
      "42 56 32\n",
      "The Odd elements are:\n",
      "25 47\n"
     ]
    }
   ],
   "source": [
    "original=[25,47,42,56,32]\n",
    "odd=[]\n",
    "even=[]\n",
    "for x in original:\n",
    "    if(x % 2==0):\n",
    "        even.append(x)\n",
    "    else:\n",
    "        odd.append(x)\n",
    "print(\"The Even elements are:\")    \n",
    "print(*even)\n",
    "print(\"The Odd elements are:\")\n",
    "print(*odd)"
   ]
  },
  {
   "cell_type": "markdown",
   "id": "8c9e5f4d",
   "metadata": {},
   "source": [
    "Question 5\n",
    "a. Write a function inside(x,y,x1,y1,x2,y2) that returns True or False\n",
    "depending on whether the point (x,y) lies in the rectangle with lower left\n",
    "corner (x1,y1) and upper right corner (x2,y2).\n",
    ">>> inside(1,1,0,0,2,3)\n",
    "True\n",
    ">>> inside(-1,-1,0,0,2,3)\n",
    "\n",
    "b. Use function inside() from part a. to write an expression that tests whether\n",
    "the point (1,1) lies in both of the following rectangles: one with lower left\n",
    "corner (0.3, 0.5) and upper right corner (1.1, 0.7) and the other with lower\n",
    "left corner (0.5, 0.2) and upper right corner (1.1, 2). "
   ]
  },
  {
   "cell_type": "code",
   "execution_count": 16,
   "id": "113a1c18",
   "metadata": {},
   "outputs": [
    {
     "name": "stdout",
     "output_type": "stream",
     "text": [
      "Enter the number of testcase : 2\n",
      "1\n",
      "1\n",
      "0\n",
      "0\n",
      "2\n",
      "3\n",
      "true\n",
      "-1\n",
      "-1\n",
      "0\n",
      "0\n",
      "2\n",
      "3\n",
      "false\n"
     ]
    }
   ],
   "source": [
    "#function\n",
    "def inside(x,y,x1,y1,x2,y2):\n",
    "    if(x>x1 and x<x2 and y>y1 and y<y2):\n",
    "        print(\"true\")\n",
    "    else:\n",
    "        print(\"false\")\n",
    "#input\n",
    "n=int(input(\"Enter the number of testcase : \"))\n",
    "for x in range(n):\n",
    "    x=int(input())\n",
    "    y=int(input())\n",
    "    x1=int(input())\n",
    "    y1=int(input())\n",
    "    x2=int(input())\n",
    "    y2=int(input())\n",
    "    inside(x,y,x1,y1,x2,y2)"
   ]
  },
  {
   "cell_type": "code",
   "execution_count": 18,
   "id": "431d0e2e",
   "metadata": {
    "scrolled": true
   },
   "outputs": [
    {
     "name": "stdout",
     "output_type": "stream",
     "text": [
      "1\n",
      "1\n",
      "0.3\n",
      "0.5\n",
      "1.1\n",
      "0.7\n",
      "0.5\n",
      "0.2\n",
      "1.1\n",
      "2\n",
      "False\n"
     ]
    }
   ],
   "source": [
    "def inside(x,y,x1,y1,x2,y2):\n",
    "    if(x>x1 and x<x2 and y>y1 and y<y2):\n",
    "        return True\n",
    "    else:\n",
    "        return False\n",
    "#input\n",
    "x=float(input())\n",
    "y=float(input())\n",
    "x1=float(input())\n",
    "y1=float(input())\n",
    "x2=float(input())\n",
    "y2=float(input())\n",
    "x3=float(input())\n",
    "y3=float(input())\n",
    "x4=float(input())\n",
    "y4=float(input())\n",
    "if(inside(x,y,x1,y1,x2,y2)and inside(x,y,x3,y3,x4,y4)):\n",
    "    print(\"True\")\n",
    "else:\n",
    "    print(\"False\")"
   ]
  },
  {
   "cell_type": "markdown",
   "id": "0decc56d",
   "metadata": {},
   "source": [
    "Question 6\n",
    "16. You can turn a word into pig-Latin using the following two rules (simplified):\n",
    "• If the word starts with a consonant, move that letter to the end and append\n",
    "'ay'. For example, 'happy' becomes 'appyhay' and 'pencil' becomes 'encilpay'.\n",
    "• If the word starts with a vowel, simply append 'way' to the end of the word.\n",
    "For example, 'enter' becomes 'enterway' and 'other' becomes 'otherway' . For\n",
    "our purposes, there are 5 vowels: a, e, i, o, u (so we count y as a consonant).\n",
    "Write a function pig() that takes a word (i.e., a string) as input and returns its pigLatin form. Your function should still work if the input word contains upper case\n",
    "characters. Your output should always be lower case however."
   ]
  },
  {
   "cell_type": "code",
   "execution_count": 23,
   "id": "a63b9f17",
   "metadata": {},
   "outputs": [
    {
     "name": "stdout",
     "output_type": "stream",
     "text": [
      "Enter the number of testcases : 4\n",
      "Enter the input string : Hello\n",
      "ellohay\n",
      "Enter the input string : PENCIL\n",
      "encilpay\n",
      "Enter the input string : enter\n",
      "enterway\n",
      "Enter the input string : other\n",
      "otherway\n"
     ]
    }
   ],
   "source": [
    "#funtion\n",
    "def pig(str):\n",
    "    if(str[0]=='a' or str[0]=='e' or str[0]=='i' or str[0]=='o' or str[0]=='u' or \n",
    "      str[0]=='A' or str[0]=='E' or str[0]=='I' or str[0]=='O' or str[0]=='U' ):\n",
    "        print(str.lower()+\"way\")\n",
    "    else:\n",
    "        print(str[1:].lower()+str[0].lower()+\"ay\")\n",
    "        \n",
    "#input         \n",
    "n=int(input(\"Enter the number of testcases : \"))\n",
    "for x in range(n):\n",
    "    str=input(\"Enter the input string : \")\n",
    "    pig(str)\n",
    "    "
   ]
  },
  {
   "cell_type": "markdown",
   "id": "c108c447",
   "metadata": {},
   "source": [
    "Question 7\n",
    "File bloodtype1.txt records blood-types of patients (A, B, AB, O or OO) at a clinic.\n",
    "Write a function bldcount() that reads the file with name name and reports (i.e.,\n",
    "prints) how many patients there are in each bloodtype.\n",
    ">>> bldcount('bloodtype.txt')\n",
    "\n",
    "There are 10 patients of blood type A.\n",
    "There is one patient of blood type B.\n",
    "There are 10 patients of blood type AB.\n",
    "There are 12 patients of blood type O.\n",
    "There are no patients of blood type OO."
   ]
  },
  {
   "cell_type": "code",
   "execution_count": 20,
   "id": "2f4103c9",
   "metadata": {},
   "outputs": [
    {
     "name": "stdout",
     "output_type": "stream",
     "text": [
      "28\n",
      "There are 28 patients of blood type A.\n",
      "There are 14 patients of blood type B.\n",
      "There are 13 patients of blood type AB.\n",
      "There are 15 patients of blood type O.\n",
      "There are 0 patients of blood type OO.\n"
     ]
    }
   ],
   "source": [
    "path=('Bloodtype.txt')\n",
    "file=[]\n",
    "file=open(path).readline()\n",
    "\n",
    "\n",
    "print(\"There are \"+str(file.count('A'))+\" patients of blood type A.\")\n",
    "print(\"There are \"+str(file.count('B'))+\" patients of blood type B.\")\n",
    "print(\"There are \"+str(file.count('AB'))+\" patients of blood type AB.\")\n",
    "print(\"There are \"+str(file.count('O'))+\" patients of blood type O.\")\n",
    "print(\"There are \"+str(file.count('OO'))+\" patients of blood type OO.\")"
   ]
  },
  {
   "cell_type": "markdown",
   "id": "097a4786",
   "metadata": {},
   "source": [
    "Question 8\n",
    "Write a function curconv() that takes as input:\n",
    "1. a currency represented using a string (e.g., 'JPY' for the Japanese Yen or\n",
    "'EUR' for the Euro)\n",
    "2. an amount\n",
    "and then converts and returns the amount in US dollars.\n",
    ">>> curconv('EUR', 100)\n",
    "122.96544\n",
    ">>> curconv('JPY', 100)\n",
    "1.241401\n",
    "\n",
    "The currency rates you will need are stored in file currencies.txt:\n",
    "AUD 1.0345157 Australian Dollar\n",
    "CHF 1.0237414 Swiss Franc\n",
    "CNY 0.1550176 Chinese Yuan\n",
    "DKK 0.1651442 Danish Krone\n",
    "EUR 1.2296544 Euro\n",
    "GBP 1.5550989 British Pound\n",
    "HKD 0.1270207 Hong Kong Dollar\n",
    "INR 0.0177643 Indian Rupee\n",
    "JPY 0.01241401 Japanese Yen\n",
    "MXN 0.0751848 Mexican Peso\n",
    "MYR 0.3145411 Malaysian Ringgit\n",
    "NOK 0.1677063 Norwegian Krone\n",
    "NZD 0.8003591 New Zealand Dollar\n",
    "PHP 0.0233234 Philippine Peso\n",
    "SEK 0.148269 Swedish Krona\n",
    "SGD 0.788871 Singapore Dollar\n",
    "THB 0.0313789 Thai Baht"
   ]
  },
  {
   "cell_type": "code",
   "execution_count": 60,
   "id": "3e46558c",
   "metadata": {},
   "outputs": [
    {
     "name": "stdout",
     "output_type": "stream",
     "text": [
      "Enter the number of testcases : 2\n",
      "Enter the country : EUR\n",
      "Enter the amount : 100\n",
      "122.96544\n",
      "Enter the country : JPY\n",
      "Enter the amount : 100\n",
      "1.241401\n"
     ]
    }
   ],
   "source": [
    "path=('currencies.txt')\n",
    "string=[]\n",
    "string=open(path).readlines()\n",
    "# print(string)\n",
    "n=int(input(\"Enter the number of testcases : \"))\n",
    "for y in range(n):\n",
    "    currency=input(\"Enter the country : \")\n",
    "    amount=int(input(\"Enter the amount : \"))\n",
    "    for x in string:  \n",
    "        if x.find(currency)==0:\n",
    "            temp=[]\n",
    "            temp=x.split(\" \")\n",
    "            a=float(temp[1])\n",
    "            print(a*amount)       "
   ]
  },
  {
   "cell_type": "markdown",
   "id": "a7550781",
   "metadata": {},
   "source": [
    "Question 9\n",
    "Each of the following will cause an exception (an error). Identify what type of\n",
    "exception each will cause.\n",
    "\n",
    "Trying to add incompatible variables, as in\n",
    "adding 6 + ‘a’\n",
    "\n",
    ">>TypeError\n",
    "unsupported operand type(s) for + : 'int' and 'str'\n",
    "\n",
    "Referring to the 12th item of a list that has only 10\n",
    "items\n",
    "\n",
    ">>IndexError\n",
    "index out of range error\n",
    "\n",
    "Using a value that is out of range for a function’s\n",
    "input, such as calling math.sqrt(-1.0)\n",
    "\n",
    ">>ValueError\n",
    "\n",
    "Using an undeclared variable, such as print(x)\n",
    "when x has not been defined\n",
    "\n",
    ">>NameError\n",
    "name 'x' is not defined\n",
    "\n",
    "Trying to open a file that does not exist, such as\n",
    "mistyping the file name or looking in the wrong\n",
    "directory.\n",
    ">>FileNotFoundError\n",
    "No such file or directory"
   ]
  },
  {
   "cell_type": "markdown",
   "id": "9547b1eb",
   "metadata": {},
   "source": [
    "Question 10\n",
    "Encryption is the process of hiding the meaning of a text by substituting letters in the\n",
    "message with other letters, according to some system. If the process is successful, no\n",
    "one but the intended recipient can understand the encrypted message. Cryptanalysis\n",
    "refers to attempts to undo the encryption, even if some details of the encryption are\n",
    "unknown (for example, if an encrypted message has been intercepted). The first step\n",
    "of cryptanalysis is often to build up a table of letter frequencies in the encrypted text.\n",
    "Assume that the string letters is already defined as\n",
    "'abcdefghijklmnopqrstuvwxyz'. Write a function called frequencies()\n",
    "that takes a string as its only parameter, and returns a list of integers, showing the\n",
    "number of times each character appears in the text. Your function may ignore any\n",
    "characters that are not in letters.\n",
    ">>> frequencies('The quick red fox got bored and went home.')\n",
    "[1, 1, 1, 3, 5, 1, 1, 2, 1, 0, 1, 0, 1, 2, 4, 0, 1, 2, 0, 2,\n",
    "1, 0, 1, 1, 0, 0]\n",
    ">>> frequencies('apple')"
   ]
  },
  {
   "cell_type": "code",
   "execution_count": 74,
   "id": "161d3353",
   "metadata": {},
   "outputs": [
    {
     "name": "stdout",
     "output_type": "stream",
     "text": [
      "Enter the number of testcases : 2\n",
      "Enter the input : The quick red fox got bored and went home.\n",
      "[1, 1, 1, 3, 5, 1, 1, 2, 1, 0, 1, 0, 1, 2, 4, 0, 1, 2, 0, 2, 1, 0, 1, 1, 0, 0]\n",
      "Enter the input : apple\n",
      "[1, 0, 0, 0, 1, 0, 0, 0, 0, 0, 0, 1, 0, 0, 0, 2, 0, 0, 0, 0, 0, 0, 0, 0, 0, 0]\n"
     ]
    }
   ],
   "source": [
    "def frequencies(string):\n",
    "    lst=[]\n",
    "    s='abcdefghijklmnopqrstuvwxyz'\n",
    "    for x in s:\n",
    "        a=string.count(x)\n",
    "        lst.append(a)\n",
    "    print (lst)\n",
    "n=int(input(\"Enter the number of testcases : \"))    \n",
    "for x in range(n):\n",
    "    msg=input(\"Enter the input : \")\n",
    "    frequencies(msg)"
   ]
  },
  {
   "cell_type": "code",
   "execution_count": null,
   "id": "ce269b02",
   "metadata": {},
   "outputs": [],
   "source": []
  }
 ],
 "metadata": {
  "kernelspec": {
   "display_name": "Python 3 (ipykernel)",
   "language": "python",
   "name": "python3"
  },
  "language_info": {
   "codemirror_mode": {
    "name": "ipython",
    "version": 3
   },
   "file_extension": ".py",
   "mimetype": "text/x-python",
   "name": "python",
   "nbconvert_exporter": "python",
   "pygments_lexer": "ipython3",
   "version": "3.10.9"
  }
 },
 "nbformat": 4,
 "nbformat_minor": 5
}
